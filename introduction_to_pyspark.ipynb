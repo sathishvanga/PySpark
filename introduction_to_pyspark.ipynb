{
  "cells": [
    {
      "cell_type": "markdown",
      "metadata": {
        "id": "view-in-github",
        "colab_type": "text"
      },
      "source": [
        "<a href=\"https://colab.research.google.com/github/sathishvanga/PySpark/blob/main/introduction_to_pyspark.ipynb\" target=\"_parent\"><img src=\"https://colab.research.google.com/assets/colab-badge.svg\" alt=\"Open In Colab\"/></a>"
      ]
    },
    {
      "cell_type": "markdown",
      "source": [
        "# Introduction to Spark"
      ],
      "metadata": {
        "id": "PpuAmxr72zM_"
      }
    },
    {
      "cell_type": "code",
      "source": [
        "from pyspark.sql import SparkSession\n",
        "spark = SparkSession.builder.appName('DataFrame').getOrCreate()"
      ],
      "metadata": {
        "id": "3KsvEIQz1eUP"
      },
      "execution_count": null,
      "outputs": []
    },
    {
      "cell_type": "code",
      "source": [
        "spark"
      ],
      "metadata": {
        "colab": {
          "base_uri": "https://localhost:8080/",
          "height": 219
        },
        "id": "yCpwpqum2Qp0",
        "outputId": "8aa3c6a7-aff4-43d3-8fa0-3e6d80f573ec"
      },
      "execution_count": null,
      "outputs": [
        {
          "output_type": "execute_result",
          "data": {
            "text/plain": [
              "<pyspark.sql.session.SparkSession at 0x7a8491a25930>"
            ],
            "text/html": [
              "\n",
              "            <div>\n",
              "                <p><b>SparkSession - in-memory</b></p>\n",
              "                \n",
              "        <div>\n",
              "            <p><b>SparkContext</b></p>\n",
              "\n",
              "            <p><a href=\"http://6e22b7232c6b:4040\">Spark UI</a></p>\n",
              "\n",
              "            <dl>\n",
              "              <dt>Version</dt>\n",
              "                <dd><code>v3.5.1</code></dd>\n",
              "              <dt>Master</dt>\n",
              "                <dd><code>local[*]</code></dd>\n",
              "              <dt>AppName</dt>\n",
              "                <dd><code>DataFrame</code></dd>\n",
              "            </dl>\n",
              "        </div>\n",
              "        \n",
              "            </div>\n",
              "        "
            ]
          },
          "metadata": {},
          "execution_count": 3
        }
      ]
    },
    {
      "cell_type": "code",
      "source": [
        "df  = spark.read.option('header','true').csv('/content/scores_data.csv',inferSchema=True)"
      ],
      "metadata": {
        "id": "PetTWWM_2r1R"
      },
      "execution_count": null,
      "outputs": []
    },
    {
      "cell_type": "code",
      "source": [
        "df.printSchema()"
      ],
      "metadata": {
        "colab": {
          "base_uri": "https://localhost:8080/"
        },
        "id": "xxs6aLnP3QRA",
        "outputId": "f52f136c-327b-4688-963a-9db86c33c832"
      },
      "execution_count": null,
      "outputs": [
        {
          "output_type": "stream",
          "name": "stdout",
          "text": [
            "root\n",
            " |-- Batch : string (nullable = true)\n",
            " |-- User_ID : string (nullable = true)\n",
            " |--    Score   : string (nullable = true)\n",
            "\n"
          ]
        }
      ]
    },
    {
      "cell_type": "code",
      "source": [
        "df.show()"
      ],
      "metadata": {
        "colab": {
          "base_uri": "https://localhost:8080/"
        },
        "id": "SZYDdD3Q4HNW",
        "outputId": "a19fd0e2-5acb-4011-c7f0-e7c75270435a"
      },
      "execution_count": null,
      "outputs": [
        {
          "output_type": "stream",
          "name": "stdout",
          "text": [
            "+----------+--------+-----------+\n",
            "|    Batch |User_ID |   Score   |\n",
            "+----------+--------+-----------+\n",
            "|AI_ELITE_7| uid_149|      6 / 7|\n",
            "|AI_ELITE_7| uid_148|      6 / 7|\n",
            "|AI_ELITE_7| uid_147|      7 / 7|\n",
            "|AI_ELITE_7| uid_146|      7 / 7|\n",
            "|AI_ELITE_7| uid_145|      4 / 7|\n",
            "|AI_ELITE_7| uid_144|      7 / 7|\n",
            "|AI_ELITE_7| uid_143|      5 / 7|\n",
            "|AI_ELITE_7| uid_142|      7 / 7|\n",
            "|AI_ELITE_7| uid_141|      3 / 7|\n",
            "|AI_ELITE_7| uid_140|      6 / 7|\n",
            "|AI_ELITE_7| uid_139|      6 / 7|\n",
            "|AI_ELITE_7| uid_138|      3 / 7|\n",
            "|AI_ELITE_7| uid_137|      6 / 7|\n",
            "|AI_ELITE_7| uid_136|      5 / 7|\n",
            "|AI_ELITE_7| uid_135|      6 / 7|\n",
            "|AI_ELITE_7| uid_134|      7 / 7|\n",
            "|AI_ELITE_7| uid_133|      7 / 7|\n",
            "|AI_ELITE_7| uid_132|      7 / 7|\n",
            "|AI_ELITE_7| uid_131|      5 / 7|\n",
            "|AI_ELITE_7| uid_130|      7 / 7|\n",
            "+----------+--------+-----------+\n",
            "only showing top 20 rows\n",
            "\n"
          ]
        }
      ]
    },
    {
      "cell_type": "code",
      "source": [
        "df.columns"
      ],
      "metadata": {
        "colab": {
          "base_uri": "https://localhost:8080/"
        },
        "id": "RxaLQiCP4xN6",
        "outputId": "2f8960e4-d292-442e-9a49-b7580bdaaa08"
      },
      "execution_count": null,
      "outputs": [
        {
          "output_type": "execute_result",
          "data": {
            "text/plain": [
              "['Batch ', 'User_ID ', '   Score   ']"
            ]
          },
          "metadata": {},
          "execution_count": 25
        }
      ]
    },
    {
      "cell_type": "code",
      "source": [
        "df.select('   Score   ').show()"
      ],
      "metadata": {
        "colab": {
          "base_uri": "https://localhost:8080/"
        },
        "id": "lpIYvQBP4Xlp",
        "outputId": "7e09e28d-7e50-4975-d315-b82249d03a6b"
      },
      "execution_count": null,
      "outputs": [
        {
          "output_type": "stream",
          "name": "stdout",
          "text": [
            "+-----------+\n",
            "|   Score   |\n",
            "+-----------+\n",
            "|      6 / 7|\n",
            "|      6 / 7|\n",
            "|      7 / 7|\n",
            "|      7 / 7|\n",
            "|      4 / 7|\n",
            "|      7 / 7|\n",
            "|      5 / 7|\n",
            "|      7 / 7|\n",
            "|      3 / 7|\n",
            "|      6 / 7|\n",
            "|      6 / 7|\n",
            "|      3 / 7|\n",
            "|      6 / 7|\n",
            "|      5 / 7|\n",
            "|      6 / 7|\n",
            "|      7 / 7|\n",
            "|      7 / 7|\n",
            "|      7 / 7|\n",
            "|      5 / 7|\n",
            "|      7 / 7|\n",
            "+-----------+\n",
            "only showing top 20 rows\n",
            "\n"
          ]
        }
      ]
    },
    {
      "cell_type": "code",
      "source": [
        "df.describe().show()"
      ],
      "metadata": {
        "colab": {
          "base_uri": "https://localhost:8080/"
        },
        "id": "Eo1buObD4kfP",
        "outputId": "4d97838e-df0e-4528-838f-c2434aa5f1e7"
      },
      "execution_count": null,
      "outputs": [
        {
          "output_type": "stream",
          "name": "stdout",
          "text": [
            "+-------+----------+--------+-----------+\n",
            "|summary|    Batch |User_ID |   Score   |\n",
            "+-------+----------+--------+-----------+\n",
            "|  count|       149|     149|        149|\n",
            "|   mean|      NULL|    NULL|       NULL|\n",
            "| stddev|      NULL|    NULL|       NULL|\n",
            "|    min|AI_ELITE_4|   uid_1|      0 / 7|\n",
            "|    max|AI_ELITE_7|  uid_99|      7 / 7|\n",
            "+-------+----------+--------+-----------+\n",
            "\n"
          ]
        }
      ]
    },
    {
      "cell_type": "code",
      "source": [
        "# adding columns into dataframe\n",
        "df=df.withColumn('Age',df['   Score   '])"
      ],
      "metadata": {
        "id": "bEb6ybN65NLa"
      },
      "execution_count": null,
      "outputs": []
    },
    {
      "cell_type": "code",
      "source": [
        "df.show()"
      ],
      "metadata": {
        "colab": {
          "base_uri": "https://localhost:8080/"
        },
        "id": "fw-Ld-Dt50QE",
        "outputId": "03598fd4-ded2-459a-dd72-15a8d1e06461"
      },
      "execution_count": null,
      "outputs": [
        {
          "output_type": "stream",
          "name": "stdout",
          "text": [
            "+----------+--------+-----------+-----+\n",
            "|    Batch |User_ID |   Score   |  Age|\n",
            "+----------+--------+-----------+-----+\n",
            "|AI_ELITE_7| uid_149|      6 / 7|6 / 7|\n",
            "|AI_ELITE_7| uid_148|      6 / 7|6 / 7|\n",
            "|AI_ELITE_7| uid_147|      7 / 7|7 / 7|\n",
            "|AI_ELITE_7| uid_146|      7 / 7|7 / 7|\n",
            "|AI_ELITE_7| uid_145|      4 / 7|4 / 7|\n",
            "|AI_ELITE_7| uid_144|      7 / 7|7 / 7|\n",
            "|AI_ELITE_7| uid_143|      5 / 7|5 / 7|\n",
            "|AI_ELITE_7| uid_142|      7 / 7|7 / 7|\n",
            "|AI_ELITE_7| uid_141|      3 / 7|3 / 7|\n",
            "|AI_ELITE_7| uid_140|      6 / 7|6 / 7|\n",
            "|AI_ELITE_7| uid_139|      6 / 7|6 / 7|\n",
            "|AI_ELITE_7| uid_138|      3 / 7|3 / 7|\n",
            "|AI_ELITE_7| uid_137|      6 / 7|6 / 7|\n",
            "|AI_ELITE_7| uid_136|      5 / 7|5 / 7|\n",
            "|AI_ELITE_7| uid_135|      6 / 7|6 / 7|\n",
            "|AI_ELITE_7| uid_134|      7 / 7|7 / 7|\n",
            "|AI_ELITE_7| uid_133|      7 / 7|7 / 7|\n",
            "|AI_ELITE_7| uid_132|      7 / 7|7 / 7|\n",
            "|AI_ELITE_7| uid_131|      5 / 7|5 / 7|\n",
            "|AI_ELITE_7| uid_130|      7 / 7|7 / 7|\n",
            "+----------+--------+-----------+-----+\n",
            "only showing top 20 rows\n",
            "\n"
          ]
        }
      ]
    },
    {
      "cell_type": "code",
      "source": [
        "#droping the column\n",
        "\n",
        "df = df.drop('Age')\n",
        "\n",
        "df.show()"
      ],
      "metadata": {
        "colab": {
          "base_uri": "https://localhost:8080/"
        },
        "id": "2jRiMahk6Ahk",
        "outputId": "190f9286-bee8-44e1-e0f2-4f0dcd9b079f"
      },
      "execution_count": null,
      "outputs": [
        {
          "output_type": "stream",
          "name": "stdout",
          "text": [
            "+----------+--------+-----------+\n",
            "|    Batch |User_ID |   Score   |\n",
            "+----------+--------+-----------+\n",
            "|AI_ELITE_7| uid_149|      6 / 7|\n",
            "|AI_ELITE_7| uid_148|      6 / 7|\n",
            "|AI_ELITE_7| uid_147|      7 / 7|\n",
            "|AI_ELITE_7| uid_146|      7 / 7|\n",
            "|AI_ELITE_7| uid_145|      4 / 7|\n",
            "|AI_ELITE_7| uid_144|      7 / 7|\n",
            "|AI_ELITE_7| uid_143|      5 / 7|\n",
            "|AI_ELITE_7| uid_142|      7 / 7|\n",
            "|AI_ELITE_7| uid_141|      3 / 7|\n",
            "|AI_ELITE_7| uid_140|      6 / 7|\n",
            "|AI_ELITE_7| uid_139|      6 / 7|\n",
            "|AI_ELITE_7| uid_138|      3 / 7|\n",
            "|AI_ELITE_7| uid_137|      6 / 7|\n",
            "|AI_ELITE_7| uid_136|      5 / 7|\n",
            "|AI_ELITE_7| uid_135|      6 / 7|\n",
            "|AI_ELITE_7| uid_134|      7 / 7|\n",
            "|AI_ELITE_7| uid_133|      7 / 7|\n",
            "|AI_ELITE_7| uid_132|      7 / 7|\n",
            "|AI_ELITE_7| uid_131|      5 / 7|\n",
            "|AI_ELITE_7| uid_130|      7 / 7|\n",
            "+----------+--------+-----------+\n",
            "only showing top 20 rows\n",
            "\n"
          ]
        }
      ]
    },
    {
      "cell_type": "code",
      "source": [
        "# rename the columns\n",
        "\n",
        "df = df.withColumnRenamed('   Score   ','Score')"
      ],
      "metadata": {
        "id": "rfU4mJnz6a1q"
      },
      "execution_count": null,
      "outputs": []
    },
    {
      "cell_type": "code",
      "source": [
        "df.show()\n"
      ],
      "metadata": {
        "colab": {
          "base_uri": "https://localhost:8080/"
        },
        "id": "ELbiM_y16omD",
        "outputId": "b0181216-5560-4e88-ebda-c99e03f00343"
      },
      "execution_count": null,
      "outputs": [
        {
          "output_type": "stream",
          "name": "stdout",
          "text": [
            "+----------+--------+-----+\n",
            "|    Batch |User_ID |Score|\n",
            "+----------+--------+-----+\n",
            "|AI_ELITE_7| uid_149|6 / 7|\n",
            "|AI_ELITE_7| uid_148|6 / 7|\n",
            "|AI_ELITE_7| uid_147|7 / 7|\n",
            "|AI_ELITE_7| uid_146|7 / 7|\n",
            "|AI_ELITE_7| uid_145|4 / 7|\n",
            "|AI_ELITE_7| uid_144|7 / 7|\n",
            "|AI_ELITE_7| uid_143|5 / 7|\n",
            "|AI_ELITE_7| uid_142|7 / 7|\n",
            "|AI_ELITE_7| uid_141|3 / 7|\n",
            "|AI_ELITE_7| uid_140|6 / 7|\n",
            "|AI_ELITE_7| uid_139|6 / 7|\n",
            "|AI_ELITE_7| uid_138|3 / 7|\n",
            "|AI_ELITE_7| uid_137|6 / 7|\n",
            "|AI_ELITE_7| uid_136|5 / 7|\n",
            "|AI_ELITE_7| uid_135|6 / 7|\n",
            "|AI_ELITE_7| uid_134|7 / 7|\n",
            "|AI_ELITE_7| uid_133|7 / 7|\n",
            "|AI_ELITE_7| uid_132|7 / 7|\n",
            "|AI_ELITE_7| uid_131|5 / 7|\n",
            "|AI_ELITE_7| uid_130|7 / 7|\n",
            "+----------+--------+-----+\n",
            "only showing top 20 rows\n",
            "\n"
          ]
        }
      ]
    },
    {
      "cell_type": "code",
      "source": [],
      "metadata": {
        "id": "Hp8xzvOO6rBf"
      },
      "execution_count": null,
      "outputs": []
    }
  ],
  "metadata": {
    "colab": {
      "provenance": [],
      "authorship_tag": "ABX9TyOobC7b2BIBGKn94qBFVqgJ",
      "include_colab_link": true
    },
    "kernelspec": {
      "display_name": "Python 3",
      "name": "python3"
    },
    "language_info": {
      "name": "python"
    }
  },
  "nbformat": 4,
  "nbformat_minor": 0
}